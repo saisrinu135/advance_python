{
 "cells": [
  {
   "cell_type": "code",
   "execution_count": 5,
   "metadata": {},
   "outputs": [
    {
     "name": "stdout",
     "output_type": "stream",
     "text": [
      "None\n",
      "[-10, -5, 4, 2, 1]\n",
      "[-10, -5, 4, 2, 1]\n"
     ]
    }
   ],
   "source": [
    "liss = [1,4,2,-10,-5]\n",
    "\n",
    "def absolute(x):\n",
    "    if x>0:\n",
    "        return x\n",
    "    else:\n",
    "        return -x\n",
    "    \n",
    "print(liss.sort(key=absolute,reverse = True))\n",
    "print(liss)\n",
    "\n",
    "print(sorted(liss,reverse = True,key=absolute))"
   ]
  },
  {
   "cell_type": "code",
   "execution_count": 3,
   "metadata": {},
   "outputs": [
    {
     "name": "stdout",
     "output_type": "stream",
     "text": [
      "['i', 's', 'p', 'm', 'e']\n"
     ]
    }
   ],
   "source": [
    "strr = \"mississippie\"\n",
    "\n",
    "def _sort(coll):\n",
    "    d = {}\n",
    "    for char in coll:\n",
    "        if char not in d:\n",
    "            d[char] = 1\n",
    "        else:\n",
    "            d[char]+=1\n",
    "    return d\n",
    "\n",
    "res_d = _sort(strr)\n",
    "sorted_d = sorted(res_d, key=lambda i:res_d[i],reverse=True)\n",
    "print(sorted_d)"
   ]
  },
  {
   "cell_type": "code",
   "execution_count": 17,
   "metadata": {},
   "outputs": [
    {
     "name": "stdout",
     "output_type": "stream",
     "text": [
      "['set', 'peach', 'apple', 'mango', 'banana', 'pomagranate', 'green apple']\n"
     ]
    }
   ],
   "source": [
    "#sorting with length of fruit name\n",
    "fruits = ['set','peach','apple','mango','banana','pomagranate','green apple']\n",
    "ordered_fruits = sorted(fruits, key = lambda fruit: len(fruit))\n",
    "print(ordered_fruits)"
   ]
  },
  {
   "cell_type": "code",
   "execution_count": 18,
   "metadata": {},
   "outputs": [
    {
     "name": "stdout",
     "output_type": "stream",
     "text": [
      "['apple', 'banana', 'green apple', 'mango', 'peach', 'pomagranate', 'set']\n"
     ]
    }
   ],
   "source": [
    "#sorting with fruit name\n",
    "fruits = ['set','peach','apple','mango','banana','pomagranate','green apple']\n",
    "ordered_fruits = sorted(fruits, key = lambda fruit: fruit)\n",
    "print(ordered_fruits)"
   ]
  },
  {
   "cell_type": "code",
   "execution_count": 22,
   "metadata": {},
   "outputs": [
    {
     "name": "stdout",
     "output_type": "stream",
     "text": [
      "['set', 'apple', 'mango', 'peach', 'banana', 'mangoo', 'green apple', 'pomagranate']\n"
     ]
    }
   ],
   "source": [
    "#sorting with fruit name and its length\n",
    "fruits = ['set','peach','apple','mango','banana','pomagranate','green apple','mangoo']\n",
    "ordered_fruits = sorted(fruits, key = lambda fruit: (len(fruit),fruit))\n",
    "print(ordered_fruits)"
   ]
  },
  {
   "cell_type": "code",
   "execution_count": 23,
   "metadata": {},
   "outputs": [
    {
     "name": "stdout",
     "output_type": "stream",
     "text": [
      "['pomagranate', 'green apple', 'mangoo', 'banana', 'peach', 'mango', 'apple', 'set']\n"
     ]
    }
   ],
   "source": [
    "#sorting with furit name and its length in reverse order\n",
    "fruits = ['set','peach','apple','mango','banana','pomagranate','green apple','mangoo']\n",
    "ordered_fruits = sorted(fruits, key = lambda fruit: (len(fruit),fruit),reverse=True)\n",
    "print(ordered_fruits)"
   ]
  }
 ],
 "metadata": {
  "kernelspec": {
   "display_name": "Python 3",
   "language": "python",
   "name": "python3"
  },
  "language_info": {
   "codemirror_mode": {
    "name": "ipython",
    "version": 3
   },
   "file_extension": ".py",
   "mimetype": "text/x-python",
   "name": "python",
   "nbconvert_exporter": "python",
   "pygments_lexer": "ipython3",
   "version": "3.11.4"
  },
  "orig_nbformat": 4
 },
 "nbformat": 4,
 "nbformat_minor": 2
}
