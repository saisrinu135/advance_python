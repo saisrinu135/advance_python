{
 "cells": [
  {
   "cell_type": "code",
   "execution_count": 5,
   "metadata": {},
   "outputs": [],
   "source": [
    "def outer(func):\n",
    "    def inner(*args,**kwargs):\n",
    "        print(\"Start task\")\n",
    "        func(*args,**kwargs)\n",
    "        r = [\"fail\",\"success\"][func(100,200)==300]\n",
    "        print(f\"testcase 1 {r}\")\n",
    "        r = [\"fail\",\"success\"][func(150,200)==350]\n",
    "        print(f\"testcase 2 {r}\")\n",
    "        r = [\"fail\",\"success\"][func(-10,-20)==-30]\n",
    "        print(f\"testcase 3 {r}\")\n",
    "        print(\"Endtask\")\n",
    "    return inner"
   ]
  },
  {
   "cell_type": "code",
   "execution_count": 6,
   "metadata": {},
   "outputs": [
    {
     "name": "stdout",
     "output_type": "stream",
     "text": [
      "Start task\n",
      "testcase 1 success\n",
      "testcase 2 success\n",
      "testcase 3 success\n",
      "endtask\n"
     ]
    }
   ],
   "source": [
    "@outer\n",
    "def add(a,b):\n",
    "    return a+b\n",
    "add(10,20)"
   ]
  },
  {
   "cell_type": "code",
   "execution_count": null,
   "metadata": {},
   "outputs": [],
   "source": [
    "def outer(func):\n",
    "    pass"
   ]
  },
  {
   "cell_type": "code",
   "execution_count": null,
   "metadata": {},
   "outputs": [],
   "source": [
    "import time\n",
    "def outertime(func):\n",
    "    def inntertime(*args,**kwargs):\n",
    "        pass"
   ]
  }
 ],
 "metadata": {
  "kernelspec": {
   "display_name": "Python 3",
   "language": "python",
   "name": "python3"
  },
  "language_info": {
   "codemirror_mode": {
    "name": "ipython",
    "version": 3
   },
   "file_extension": ".py",
   "mimetype": "text/x-python",
   "name": "python",
   "nbconvert_exporter": "python",
   "pygments_lexer": "ipython3",
   "version": "3.11.4"
  },
  "orig_nbformat": 4
 },
 "nbformat": 4,
 "nbformat_minor": 2
}
