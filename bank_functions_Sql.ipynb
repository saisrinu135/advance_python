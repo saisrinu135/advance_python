{
 "cells": [
  {
   "cell_type": "code",
   "execution_count": 58,
   "metadata": {},
   "outputs": [
    {
     "name": "stdout",
     "output_type": "stream",
     "text": [
      "-1 records affected\n"
     ]
    },
    {
     "ename": "OperationalError",
     "evalue": "database is locked",
     "output_type": "error",
     "traceback": [
      "\u001b[1;31m---------------------------------------------------------------------------\u001b[0m",
      "\u001b[1;31mOperationalError\u001b[0m                          Traceback (most recent call last)",
      "Cell \u001b[1;32mIn[58], line 50\u001b[0m\n\u001b[0;32m     47\u001b[0m     details \u001b[39m=\u001b[39m [inc_acc(),ifsc,name,age,email,phone,password,balance]\n\u001b[0;32m     48\u001b[0m     cursor\u001b[39m.\u001b[39mexecute(\u001b[39m'''\u001b[39m\u001b[39minsert into accounts(account_number,IFSC,name,age,email,phone,password,balance)\u001b[39m\n\u001b[0;32m     49\u001b[0m \u001b[39m                   values (?,?,?,?,?,?,?,?)\u001b[39m\u001b[39m'''\u001b[39m,details)\n\u001b[1;32m---> 50\u001b[0m create_account()\n\u001b[0;32m     52\u001b[0m \u001b[39m@connectdb\u001b[39m\n\u001b[0;32m     53\u001b[0m \u001b[39mdef\u001b[39;00m \u001b[39mdeposit\u001b[39m(cursor):\n\u001b[0;32m     54\u001b[0m     account_no \u001b[39m=\u001b[39m \u001b[39minput\u001b[39m(\u001b[39m\"\u001b[39m\u001b[39mEnter the account number\u001b[39m\u001b[39m\"\u001b[39m)\n",
      "Cell \u001b[1;32mIn[58], line 6\u001b[0m, in \u001b[0;36mconnectdb.<locals>.inner\u001b[1;34m(*args, **kwargs)\u001b[0m\n\u001b[0;32m      4\u001b[0m db \u001b[39m=\u001b[39m sqlite3\u001b[39m.\u001b[39mconnect(\u001b[39m'\u001b[39m\u001b[39mbank.db\u001b[39m\u001b[39m'\u001b[39m)\n\u001b[0;32m      5\u001b[0m cursor \u001b[39m=\u001b[39m db\u001b[39m.\u001b[39mcursor()\n\u001b[1;32m----> 6\u001b[0m res \u001b[39m=\u001b[39m func(cursor,\u001b[39m*\u001b[39;49margs,\u001b[39m*\u001b[39;49m\u001b[39m*\u001b[39;49mkwargs)\n\u001b[0;32m      7\u001b[0m \u001b[39mprint\u001b[39m(cursor\u001b[39m.\u001b[39mrowcount,\u001b[39m'\u001b[39m\u001b[39mrecords affected\u001b[39m\u001b[39m'\u001b[39m)\n\u001b[0;32m      8\u001b[0m db\u001b[39m.\u001b[39mcommit()\n",
      "Cell \u001b[1;32mIn[58], line 48\u001b[0m, in \u001b[0;36mcreate_account\u001b[1;34m(cursor)\u001b[0m\n\u001b[0;32m     46\u001b[0m balance \u001b[39m=\u001b[39m \u001b[39m500\u001b[39m\n\u001b[0;32m     47\u001b[0m details \u001b[39m=\u001b[39m [inc_acc(),ifsc,name,age,email,phone,password,balance]\n\u001b[1;32m---> 48\u001b[0m cursor\u001b[39m.\u001b[39;49mexecute(\u001b[39m'''\u001b[39;49m\u001b[39minsert into accounts(account_number,IFSC,name,age,email,phone,password,balance)\u001b[39;49m\n\u001b[0;32m     49\u001b[0m \u001b[39m               values (?,?,?,?,?,?,?,?)\u001b[39;49m\u001b[39m'''\u001b[39;49m,details)\n",
      "\u001b[1;31mOperationalError\u001b[0m: database is locked"
     ]
    }
   ],
   "source": [
    "import sqlite3\n",
    "def connectdb(func):\n",
    "    def inner(*args,**kwargs):\n",
    "        db = sqlite3.connect('bank.db')\n",
    "        cursor = db.cursor()\n",
    "        res = func(cursor,*args,**kwargs)\n",
    "        print(cursor.rowcount,'records affected')\n",
    "        db.commit()\n",
    "        db.close()\n",
    "        return res\n",
    "    return inner\n",
    "\n",
    "@connectdb\n",
    "def inc_acc(cursor):\n",
    "    accounts = cursor.execute(\"select account_number from accounts\").fetchall()\n",
    "    l = sorted([account for account in accounts[0]])\n",
    "    account_no = 'DUMMY'+str(int(l[-1][5:])+1)\n",
    "    return account_no\n",
    "\n",
    "ifsc = 'DUMMY0088'\n",
    "@connectdb\n",
    "def create_table(cursor):\n",
    "    cursor.execute('''create table accounts(account_number varchar(12) primary key,\n",
    "                   IFSC varchar(9) not null,\n",
    "                   name varchar(15) not null,\n",
    "                   age varchar(3) not null,\n",
    "                   email varchar(20) not null unique,\n",
    "                   phone big int not null,\n",
    "                   password varchar(16) not null,\n",
    "                   balance big int)''')\n",
    "# create_table()\n",
    "\n",
    "@connectdb\n",
    "def create_trx(cursor):\n",
    "    cursor.execute('''create table trxs(UTR No varchar(15) primary key  )''')\n",
    "    pass\n",
    "\n",
    "@connectdb\n",
    "def create_account(cursor):\n",
    "    # account_num = input()\n",
    "    name = input(\"Enter the account holder name\")\n",
    "    age = int(input(\"Enter the age\"))\n",
    "    email = input(\"Enter the email\")\n",
    "    phone = int(input(\"Enter the mobile num\"))\n",
    "    password = input(\"Enter the password\")\n",
    "    balance = 500\n",
    "    details = [inc_acc(),ifsc,name,age,email,phone,password,balance]\n",
    "    cursor.execute('''insert into accounts(account_number,IFSC,name,age,email,phone,password,balance)\n",
    "                   values (?,?,?,?,?,?,?,?)''',details)\n",
    "create_account()\n",
    "\n",
    "@connectdb\n",
    "def deposit(cursor):\n",
    "    account_no = input(\"Enter the account number\")\n",
    "    amount = int(input(\"Enter the amount\"))\n",
    "\n",
    "    cursor.execute(\"select balance from accounts where account_number=?\",[account_no])\n",
    "    cur_balance = cursor.fetchone()[0]\n",
    "    cur_balance+=amount\n",
    "    cursor.execute(\"update accounts set balance =? where account_number =?\",[cur_balance,account_no])\n",
    "# deposit()\n",
    "\n",
    "@connectdb\n",
    "def withdraw(cursor):\n",
    "    account_no = input(\"Enter the accout number\")\n",
    "    password = input(\"Enter the password\")\n",
    "    cursor.execute(\"select balance,password from accounts where account_number=?\",[account_no])\n",
    "    details = cursor.fetchall()[0]\n",
    "    if password==details[1]:\n",
    "        withdraw_amount = int(input(\"Enter the amount\"))\n",
    "        if withdraw_amount<=details[0]:\n",
    "            after_amount = details[0]-withdraw_amount\n",
    "            cursor.execute(\"update accounts set balance=? where account_number=?\",[after_amount,account_no])\n",
    "            print(\"Collect your cash.\")\n",
    "        else:\n",
    "            print(\"insufficient funds\")\n",
    "    else:\n",
    "        print(\"Incorrect password\")\n",
    "# withdraw()\n",
    "\n",
    "@connectdb\n",
    "def display(cursor):\n",
    "    account_no = input(\"Enter the account number\")\n",
    "    password = input(\"Enter the password\")\n",
    "    cursor.execute(\"select * from accounts where account_number=?\",[account_no])\n",
    "    details = cursor.fetchall()[0]\n",
    "    if password == details[-2]:\n",
    "        print('----Account Details')\n",
    "        print(\"Account number\\t\\t: \",details[0])\n",
    "        print(\"IFSC\\t\\t\\t:\" ,details[1])\n",
    "        print(\"Accout holder name\\t: \",details[2])\n",
    "        print(\"Account holder age\\t: \",details[3])\n",
    "        print(\"Email id\\t\\t: \",details[4])\n",
    "        print(\"Mobile number\\t\\t: \",details[5])\n",
    "        print(\"Amount\\t\\t\\t: \",details[-1])\n",
    "    else:\n",
    "        print(\"Invalid password\")\n",
    "\n",
    "# display()\n",
    "\n",
    "@connectdb\n",
    "def change_email(cursor):\n",
    "    account_no = input(\"Enter the account number\")\n",
    "    password = input(\"Enter the password\")\n",
    "    cursor.execute(\"select password from accounts where account_number=?\",[account_no])\n",
    "    if password==cursor.fetchone()[0]:\n",
    "        new_mail=input(\"Enter new mail id\")\n",
    "        cursor.execute(\"update accounts set email=? where account_number=?\",[new_mail,account_no])\n",
    "        print(\"Mail id is changed\")\n",
    "    else:\n",
    "        print(\"Incorrect password\")\n",
    "\n",
    "# change_email()\n",
    "\n",
    "@connectdb\n",
    "def update_mobile(cursor):\n",
    "    account_no = input(\"Enter the account number\")\n",
    "    password = input(\"Enter the password\")\n",
    "    cursor.execute(\"select password from accounts where account_number=?\",[account_no])\n",
    "    if password==cursor.fetchone()[0]:\n",
    "        new_mobile=int(input(\"Enter new mobile number\"))\n",
    "        cursor.execute(\"update accounts set phone=? where account_number=?\",[new_mobile,account_no])\n",
    "        print(\"Mobile no id is changed\")\n",
    "    else:\n",
    "        print(\"Incorrect password\")\n",
    "\n",
    "@connectdb\n",
    "def delete_account(cursor):\n",
    "    account_no = input(\"Enter the account number\")\n",
    "    password = input(\"Enter the password\")\n",
    "    cursor.execute(\"select password,balance from accounts where account_number=?\",[account_no])\n",
    "    details = cursor.fetchall()[0]\n",
    "    if password == details[0]:\n",
    "        if details[1]==0:\n",
    "            input(\"Are you sure to delete the account (y/n): \").lower()=='y'\n",
    "            cursor.execute('delete from accounts where account_number=?',[account_no])\n",
    "        else:\n",
    "            print(\"First withdraw the entire amount and then delete the account\")\n",
    "    else:\n",
    "        print(\"incorrect password\")\n",
    "# delete_account()\n",
    "# withdraw()\n",
    "\n",
    "\n",
    "# update_mobile()"
   ]
  },
  {
   "cell_type": "code",
   "execution_count": 57,
   "metadata": {},
   "outputs": [
    {
     "name": "stdout",
     "output_type": "stream",
     "text": [
      "-1 records affected\n"
     ]
    },
    {
     "ename": "IntegrityError",
     "evalue": "UNIQUE constraint failed: accounts.account_number",
     "output_type": "error",
     "traceback": [
      "\u001b[1;31m---------------------------------------------------------------------------\u001b[0m",
      "\u001b[1;31mIntegrityError\u001b[0m                            Traceback (most recent call last)",
      "Cell \u001b[1;32mIn[57], line 1\u001b[0m\n\u001b[1;32m----> 1\u001b[0m create_account()\n",
      "Cell \u001b[1;32mIn[56], line 6\u001b[0m, in \u001b[0;36mconnectdb.<locals>.inner\u001b[1;34m(*args, **kwargs)\u001b[0m\n\u001b[0;32m      4\u001b[0m db \u001b[39m=\u001b[39m sqlite3\u001b[39m.\u001b[39mconnect(\u001b[39m'\u001b[39m\u001b[39mbank.db\u001b[39m\u001b[39m'\u001b[39m)\n\u001b[0;32m      5\u001b[0m cursor \u001b[39m=\u001b[39m db\u001b[39m.\u001b[39mcursor()\n\u001b[1;32m----> 6\u001b[0m res \u001b[39m=\u001b[39m func(cursor,\u001b[39m*\u001b[39;49margs,\u001b[39m*\u001b[39;49m\u001b[39m*\u001b[39;49mkwargs)\n\u001b[0;32m      7\u001b[0m \u001b[39mprint\u001b[39m(cursor\u001b[39m.\u001b[39mrowcount,\u001b[39m'\u001b[39m\u001b[39mrecords affected\u001b[39m\u001b[39m'\u001b[39m)\n\u001b[0;32m      8\u001b[0m db\u001b[39m.\u001b[39mcommit()\n",
      "Cell \u001b[1;32mIn[56], line 48\u001b[0m, in \u001b[0;36mcreate_account\u001b[1;34m(cursor)\u001b[0m\n\u001b[0;32m     46\u001b[0m balance \u001b[39m=\u001b[39m \u001b[39m500\u001b[39m\n\u001b[0;32m     47\u001b[0m details \u001b[39m=\u001b[39m [inc_acc(),ifsc,name,age,email,phone,password,balance]\n\u001b[1;32m---> 48\u001b[0m cursor\u001b[39m.\u001b[39;49mexecute(\u001b[39m'''\u001b[39;49m\u001b[39minsert into accounts(account_number,IFSC,name,age,email,phone,password,balance)\u001b[39;49m\n\u001b[0;32m     49\u001b[0m \u001b[39m               values (?,?,?,?,?,?,?,?)\u001b[39;49m\u001b[39m'''\u001b[39;49m,details)\n",
      "\u001b[1;31mIntegrityError\u001b[0m: UNIQUE constraint failed: accounts.account_number"
     ]
    }
   ],
   "source": [
    "create_account()"
   ]
  },
  {
   "cell_type": "code",
   "execution_count": 55,
   "metadata": {},
   "outputs": [
    {
     "name": "stdout",
     "output_type": "stream",
     "text": [
      "-1 records affected\n"
     ]
    },
    {
     "data": {
      "text/plain": [
       "'DUMMY101'"
      ]
     },
     "execution_count": 55,
     "metadata": {},
     "output_type": "execute_result"
    }
   ],
   "source": [
    "@connectdb\n",
    "def inc_acc(cursor):\n",
    "    accounts = cursor.execute(\"select account_number from accounts\").fetchall()\n",
    "    l = sorted([account for account in accounts[0]])\n",
    "    account_no = 'DUMMY'+str(int(l[-1][5:])+1)\n",
    "    return account_no\n",
    "inc_acc()"
   ]
  },
  {
   "cell_type": "code",
   "execution_count": null,
   "metadata": {},
   "outputs": [],
   "source": []
  }
 ],
 "metadata": {
  "kernelspec": {
   "display_name": "Python 3",
   "language": "python",
   "name": "python3"
  },
  "language_info": {
   "codemirror_mode": {
    "name": "ipython",
    "version": 3
   },
   "file_extension": ".py",
   "mimetype": "text/x-python",
   "name": "python",
   "nbconvert_exporter": "python",
   "pygments_lexer": "ipython3",
   "version": "3.11.4"
  },
  "orig_nbformat": 4
 },
 "nbformat": 4,
 "nbformat_minor": 2
}
