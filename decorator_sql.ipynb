{
 "cells": [
  {
   "cell_type": "code",
   "execution_count": 14,
   "metadata": {},
   "outputs": [
    {
     "name": "stdout",
     "output_type": "stream",
     "text": [
      "1 records affected\n"
     ]
    }
   ],
   "source": [
    "import sqlite3\n",
    "def dbconnection(func):\n",
    "    def inner(*args,**kwargs):\n",
    "        db = sqlite3.connect('student.db')\n",
    "        cursor = db.cursor()\n",
    "        res = func(db,cursor,*args,**kwargs)\n",
    "        print(cursor.rowcount,'records affected')\n",
    "        db.commit()\n",
    "        db.close()\n",
    "        return res\n",
    "    return inner\n",
    "\n",
    "@dbconnection\n",
    "def create(db,cursor):\n",
    "    cursor.execute(\"create table student(id int,name varchar(20))\")\n",
    "\n",
    "@dbconnection\n",
    "def insert(db,cursor):\n",
    "    id = int(input(\"Enter the ID\"))\n",
    "    name = input(\"Enter tha name\")\n",
    "    val = [id,name]\n",
    "    cursor.execute(\"insert into student(id, name) values (?,?)\",val)\n",
    "\n",
    "@dbconnection\n",
    "def select(db,cursor):\n",
    "    cursor.execute(\"select * from student\")\n",
    "    res = cursor.fetchall()\n",
    "    for i in res:\n",
    "        print(i)\n",
    "\n",
    "@dbconnection\n",
    "def update(db,cursor):\n",
    "    cursor.execute(\"update student set name=? where id=2\",['seetha ram'])\n",
    "\n",
    "@dbconnection\n",
    "def delete(db,cursor):\n",
    "    cursor.execute(\"delete from student where id=?\",[int(input())])\n",
    "\n",
    "# create()\n",
    "# insert()\n",
    "# select()\n",
    "# update()\n",
    "# delete()\n"
   ]
  }
 ],
 "metadata": {
  "kernelspec": {
   "display_name": "Python 3",
   "language": "python",
   "name": "python3"
  },
  "language_info": {
   "codemirror_mode": {
    "name": "ipython",
    "version": 3
   },
   "file_extension": ".py",
   "mimetype": "text/x-python",
   "name": "python",
   "nbconvert_exporter": "python",
   "pygments_lexer": "ipython3",
   "version": "3.11.4"
  },
  "orig_nbformat": 4
 },
 "nbformat": 4,
 "nbformat_minor": 2
}
