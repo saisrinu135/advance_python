{
 "cells": [
  {
   "cell_type": "code",
   "execution_count": 1,
   "metadata": {},
   "outputs": [
    {
     "name": "stdout",
     "output_type": "stream",
     "text": [
      "{10: 10.5, True: False, 'Hello': 'raja@gmail.com'} <class 'dict'>\n",
      "b'\\x80\\x04\\x95+\\x00\\x00\\x00\\x00\\x00\\x00\\x00}\\x94(K\\nG@%\\x00\\x00\\x00\\x00\\x00\\x00\\x88\\x89\\x8c\\x05Hello\\x94\\x8c\\x0eraja@gmail.com\\x94u.' <class 'bytes'>\n"
     ]
    }
   ],
   "source": [
    "#dumps\n",
    "import pickle\n",
    "data = {10:10.5,True:False,'''Hello''':'raja@gmail.com'}\n",
    "print(data,type(data))\n",
    "pickle_data=pickle.dumps(data)\n",
    "print(pickle_data,type(pickle_data))"
   ]
  },
  {
   "cell_type": "code",
   "execution_count": 2,
   "metadata": {},
   "outputs": [
    {
     "name": "stdout",
     "output_type": "stream",
     "text": [
      "{10: 10.5, True: False, 'Hello': 'raja@gmail.com'} <class 'dict'>\n"
     ]
    }
   ],
   "source": [
    "#loads\n",
    "import pickle\n",
    "data = pickle.loads(pickle_data)\n",
    "print(data,type(data))"
   ]
  },
  {
   "cell_type": "code",
   "execution_count": 6,
   "metadata": {},
   "outputs": [
    {
     "name": "stdout",
     "output_type": "stream",
     "text": [
      "{10: 10.5, True: False, 'Hello': 'raja@gmail.com'}\n"
     ]
    }
   ],
   "source": [
    "#dumps and write into file\n",
    "import pickle\n",
    "fp = open(\"picklefile.pickle\",'wb')\n",
    "data = {10:10.5,True:False,'''Hello''':'raja@gmail.com'}\n",
    "pickle_data=pickle.dumps(data)\n",
    "fp.write(pickle_data)\n",
    "fp.close()\n",
    "\n",
    "fp=open(\"picklefile.pickle\",'rb')\n",
    "data = fp.read()\n",
    "data = pickle.loads(data)\n",
    "print(data)\n",
    "fp.close()"
   ]
  },
  {
   "cell_type": "code",
   "execution_count": 7,
   "metadata": {},
   "outputs": [
    {
     "name": "stdout",
     "output_type": "stream",
     "text": [
      "{10: 10.5, True: False, 'Hello': 'raja@gmail.com'}\n"
     ]
    }
   ],
   "source": [
    "#dump and write into file\n",
    "import pickle\n",
    "fp = open(\"picklefile.pickle\",'wb')\n",
    "data = {10:10.5,True:False,'''Hello''':'raja@gmail.com'}\n",
    "pickle.dump(data,fp)\n",
    "fp.close()\n",
    "\n",
    "# load and read form file\n",
    "fp=open(\"picklefile.pickle\",'rb')\n",
    "data = pickle.load(fp)\n",
    "print(data)\n",
    "fp.close()"
   ]
  }
 ],
 "metadata": {
  "kernelspec": {
   "display_name": "Python 3",
   "language": "python",
   "name": "python3"
  },
  "language_info": {
   "codemirror_mode": {
    "name": "ipython",
    "version": 3
   },
   "file_extension": ".py",
   "mimetype": "text/x-python",
   "name": "python",
   "nbconvert_exporter": "python",
   "pygments_lexer": "ipython3",
   "version": "3.11.4"
  },
  "orig_nbformat": 4
 },
 "nbformat": 4,
 "nbformat_minor": 2
}
