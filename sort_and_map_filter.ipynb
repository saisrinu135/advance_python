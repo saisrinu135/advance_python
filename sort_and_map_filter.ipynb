{
 "cells": [
  {
   "cell_type": "code",
   "execution_count": 2,
   "metadata": {},
   "outputs": [
    {
     "name": "stdout",
     "output_type": "stream",
     "text": [
      "[('a', 10), ('b', 20), ('e', 50), ('c', 60), ('d', 85)]\n"
     ]
    }
   ],
   "source": [
    "d = {'a':10,'b':20,'e':50,'c':60,'d':85}\n",
    "\n",
    "l = []\n",
    "for i in d:\n",
    "    l+=[(i,d[i])]\n",
    "print(l)"
   ]
  },
  {
   "cell_type": "code",
   "execution_count": 3,
   "metadata": {},
   "outputs": [
    {
     "name": "stdout",
     "output_type": "stream",
     "text": [
      "['a', 'd', 'f', 'm', 'z']\n"
     ]
    }
   ],
   "source": [
    "l = ['f','z','d','a','m']\n",
    "\n",
    "for i in range(0,len(l)):\n",
    "    for j in range(i+1,len(l)):\n",
    "        if l[i]>l[j]:\n",
    "            l[i],l[j]=l[j],l[i]\n",
    "print(l)"
   ]
  },
  {
   "cell_type": "code",
   "execution_count": 6,
   "metadata": {},
   "outputs": [
    {
     "name": "stdout",
     "output_type": "stream",
     "text": [
      "[('a', 85), ('b', 20), ('c', 100), ('c', 85), ('d', 10), ('e', 50)]\n"
     ]
    }
   ],
   "source": [
    "#sorting based on first value in tuple\n",
    "l = [('d',10),('b',20),('e',50),('c',85),('c',100),('a',85)]\n",
    "for i in range(len(l)):\n",
    "    for j in range(i+1,len(l)):\n",
    "        if l[i][0]>l[j][0]:\n",
    "            l[i],l[j]=l[j],l[i]\n",
    "print(l)"
   ]
  },
  {
   "cell_type": "code",
   "execution_count": 7,
   "metadata": {},
   "outputs": [
    {
     "name": "stdout",
     "output_type": "stream",
     "text": [
      "[('d', 10), ('b', 20), ('e', 50), ('c', 85), ('a', 85), ('c', 100)]\n"
     ]
    }
   ],
   "source": [
    "#sorting based on second value in tuple\n",
    "l = [('d',10),('b',20),('e',50),('c',85),('c',100),('a',85)]\n",
    "for i in range(len(l)):\n",
    "    for j in range(i+1,len(l)):\n",
    "        if l[i][1]>l[j][1]:\n",
    "            l[i],l[j]=l[j],l[i]\n",
    "print(l)"
   ]
  },
  {
   "cell_type": "code",
   "execution_count": 11,
   "metadata": {},
   "outputs": [
    {
     "name": "stdout",
     "output_type": "stream",
     "text": [
      "[('d', 10), ('b', 20), ('e', 50), ('c', 85), ('a', 85), ('c', 100)]\n"
     ]
    }
   ],
   "source": [
    "l = ['f','z','d','a','m']\n",
    "l = [('d',10),('b',20),('e',50),('c',85),('c',100),('a',85)]\n",
    "def u_sort(coll,key=0):\n",
    "    for i in range(len(coll)):\n",
    "        for j in range(i+1,len(coll)):\n",
    "            if coll[i][key]>coll[j][key]:\n",
    "                coll[i],coll[j]=coll[j],coll[i]\n",
    "u_sort(l,1)\n",
    "print(l)"
   ]
  },
  {
   "cell_type": "code",
   "execution_count": 12,
   "metadata": {},
   "outputs": [
    {
     "name": "stdout",
     "output_type": "stream",
     "text": [
      "['a', 'd', 'f', 'm', 'z']\n"
     ]
    }
   ],
   "source": [
    "l = ['f','z','d','a','m']\n",
    "l.sort()\n",
    "print(l)"
   ]
  },
  {
   "cell_type": "code",
   "execution_count": 13,
   "metadata": {},
   "outputs": [
    {
     "name": "stdout",
     "output_type": "stream",
     "text": [
      "[('a', 85), ('b', 20), ('c', 85), ('c', 100), ('d', 10), ('e', 50)]\n"
     ]
    }
   ],
   "source": [
    "l = [('d',10),('b',20),('e',50),('c',85),('c',100),('a',85)]\n",
    "l.sort()\n",
    "print(l)"
   ]
  },
  {
   "cell_type": "code",
   "execution_count": 18,
   "metadata": {},
   "outputs": [
    {
     "name": "stdout",
     "output_type": "stream",
     "text": [
      "[('d', 10), ('b', 20), ('e', 50), ('c', 85), ('a', 85), ('c', 100)]\n"
     ]
    }
   ],
   "source": [
    "l = [('d',10),('b',20),('e',50),('c',85),('c',100),('a',85)]\n",
    "l.sort(key = lambda values:values[1])\n",
    "print(l)"
   ]
  },
  {
   "cell_type": "code",
   "execution_count": 19,
   "metadata": {},
   "outputs": [
    {
     "name": "stdout",
     "output_type": "stream",
     "text": [
      "['a', 'd', 'f', 'm', 'z']\n"
     ]
    }
   ],
   "source": [
    "l = ['f','z','d','a','m']\n",
    "print(sorted(l))"
   ]
  },
  {
   "cell_type": "code",
   "execution_count": 22,
   "metadata": {},
   "outputs": [
    {
     "name": "stdout",
     "output_type": "stream",
     "text": [
      "[('d', 10), ('b', 20), ('e', 50), ('c', 85), ('a', 85), ('c', 100)]\n"
     ]
    }
   ],
   "source": [
    "l = [('d',10),('b',20),('e',50),('c',85),('c',100),('a',85)]\n",
    "\n",
    "u = sorted(l,key=lambda d: d[1])\n",
    "print(u)"
   ]
  },
  {
   "cell_type": "code",
   "execution_count": 24,
   "metadata": {},
   "outputs": [
    {
     "name": "stdout",
     "output_type": "stream",
     "text": [
      "{'d': 10, 'b': 20, 'e': 50, 'c': 100, 'a': 85}\n"
     ]
    }
   ],
   "source": [
    "l = [('d',10),('b',20),('e',50),('c',85),('c',100),('a',85)]\n",
    "\n",
    "u = dict(sorted(l,key=lambda l:l[1]))\n",
    "print(u)"
   ]
  },
  {
   "cell_type": "code",
   "execution_count": 28,
   "metadata": {},
   "outputs": [
    {
     "data": {
      "text/plain": [
       "['a', 'b', 'c', 'd', 'e']"
      ]
     },
     "execution_count": 28,
     "metadata": {},
     "output_type": "execute_result"
    }
   ],
   "source": [
    "d = {'a':100,'b':20,'e':50,'c':60,'d':85}\n",
    "sorted(d)"
   ]
  },
  {
   "cell_type": "code",
   "execution_count": 29,
   "metadata": {},
   "outputs": [
    {
     "data": {
      "text/plain": [
       "['b', 'e', 'c', 'd', 'a']"
      ]
     },
     "execution_count": 29,
     "metadata": {},
     "output_type": "execute_result"
    }
   ],
   "source": [
    "d = {'a':100,'b':20,'e':50,'c':60,'d':85}\n",
    "sorted(d, key=lambda key: d[key])"
   ]
  },
  {
   "cell_type": "code",
   "execution_count": 32,
   "metadata": {},
   "outputs": [
    {
     "name": "stdout",
     "output_type": "stream",
     "text": [
      "ABDFGIJ\n"
     ]
    }
   ],
   "source": [
    "#i/p \"ABcDeFGhIJmn\"\n",
    "#op ABDFGIJ\n",
    "\n",
    "strr=\"ABcDeFGhIJmn\"\n",
    "res=''\n",
    "for i in strr:\n",
    "    if i.isupper():\n",
    "        res+=i\n",
    "print(res)"
   ]
  },
  {
   "cell_type": "code",
   "execution_count": 34,
   "metadata": {},
   "outputs": [
    {
     "data": {
      "text/plain": [
       "'ABDFGIJ'"
      ]
     },
     "execution_count": 34,
     "metadata": {},
     "output_type": "execute_result"
    }
   ],
   "source": [
    "strr=\"ABcDeFGhIJmn\"\n",
    "def upper_ex(coll):\n",
    "    var = lambda i:i if \"A\"<=i<=\"Z\" else \"\"\n",
    "    s = []\n",
    "    for i in coll:\n",
    "        s+=[var(i)]\n",
    "    return \"\".join(s)\n",
    "upper_ex(strr)"
   ]
  },
  {
   "cell_type": "code",
   "execution_count": 37,
   "metadata": {},
   "outputs": [
    {
     "name": "stdout",
     "output_type": "stream",
     "text": [
      "ABDFGIJ\n"
     ]
    }
   ],
   "source": [
    "strr=\"ABcDeFGhIJmn\"\n",
    "var = lambda i:i if \"A\"<=i<=\"Z\" else \"\"\n",
    "res = map(var,strr)\n",
    "print(''.join(res))"
   ]
  },
  {
   "cell_type": "code",
   "execution_count": 38,
   "metadata": {},
   "outputs": [
    {
     "name": "stdout",
     "output_type": "stream",
     "text": [
      "ABDFGIJ\n"
     ]
    }
   ],
   "source": [
    "strr=\"ABcDeFGhIJmn\"\n",
    "res=''.join(map(lambda i:i if \"A\"<=i<='Z' else \"\",strr))\n",
    "print(res)"
   ]
  },
  {
   "cell_type": "code",
   "execution_count": 1,
   "metadata": {},
   "outputs": [
    {
     "name": "stdout",
     "output_type": "stream",
     "text": [
      "[0, 1, 4, 9, 16, 25, 36, 49, 64, 81, 100]\n"
     ]
    }
   ],
   "source": [
    "start = 0\n",
    "end = 10\n",
    "coll = []\n",
    "for i in range(start,end+1):\n",
    "    coll+=[i**2]\n",
    "print(coll)\n",
    "\n",
    "#using for loop"
   ]
  },
  {
   "cell_type": "code",
   "execution_count": 2,
   "metadata": {},
   "outputs": [
    {
     "data": {
      "text/plain": [
       "[0, 1, 4, 9, 16, 25, 36, 49, 64, 81, 100]"
      ]
     },
     "execution_count": 2,
     "metadata": {},
     "output_type": "execute_result"
    }
   ],
   "source": [
    "#recursion\n",
    "\n",
    "def square(start=0,end=10,coll=[]):\n",
    "    if start==end+1:\n",
    "        return coll\n",
    "    coll+=[start**2]\n",
    "    return square(start+1,end,coll)\n",
    "\n",
    "square()"
   ]
  },
  {
   "cell_type": "code",
   "execution_count": 3,
   "metadata": {},
   "outputs": [
    {
     "name": "stdout",
     "output_type": "stream",
     "text": [
      "[0, 1, 4, 9, 16, 25, 36, 49, 64, 81, 100]\n"
     ]
    }
   ],
   "source": [
    "#using map function\n",
    "var = list(map(lambda args:args**2,range(0,10+1)))\n",
    "print(var)"
   ]
  },
  {
   "cell_type": "code",
   "execution_count": 9,
   "metadata": {},
   "outputs": [
    {
     "name": "stdout",
     "output_type": "stream",
     "text": [
      "[0, '', 2, '', 4, '', 6, '', 8, '', 10]\n"
     ]
    }
   ],
   "source": [
    "var = list(map(lambda i:i if i%2==0 else \"\", range(0,10+1)))\n",
    "print(var)"
   ]
  },
  {
   "cell_type": "code",
   "execution_count": 14,
   "metadata": {},
   "outputs": [
    {
     "name": "stdout",
     "output_type": "stream",
     "text": [
      "HELLOWORLD@123\n"
     ]
    }
   ],
   "source": [
    "#upper\n",
    "\n",
    "st = \"HELLOWorld@123\"\n",
    "res = \"\".join(map(lambda i:st[i].upper() if st[i].islower() else st[i],range(len(st))))\n",
    "print(res)"
   ]
  },
  {
   "cell_type": "code",
   "execution_count": 17,
   "metadata": {},
   "outputs": [
    {
     "name": "stdout",
     "output_type": "stream",
     "text": [
      "helloworld@123\n"
     ]
    }
   ],
   "source": [
    "#lower\n",
    "\n",
    "st = \"HELLOWorld@123\"\n",
    "res = ''.join(map(lambda i:st[i].lower() if st[i].isupper() else st[i],range(len(st))))\n",
    "print(res)"
   ]
  },
  {
   "cell_type": "code",
   "execution_count": 10,
   "metadata": {},
   "outputs": [
    {
     "name": "stdout",
     "output_type": "stream",
     "text": [
      "helloworld@123\n"
     ]
    }
   ],
   "source": [
    "# lower\n",
    "st = \"HELLOWorld@123\"\n",
    "res = ''.join(map(lambda char:char.lower() if char.isupper() else char,st))\n",
    "print(res)"
   ]
  },
  {
   "cell_type": "code",
   "execution_count": 24,
   "metadata": {},
   "outputs": [
    {
     "name": "stdout",
     "output_type": "stream",
     "text": [
      "[10, 88, 76, 96, 84]\n"
     ]
    }
   ],
   "source": [
    "l = [10,15,88,76,25,96,84,17,79]\n",
    "even = []\n",
    "for i in l:\n",
    "    if i%2==0:\n",
    "        even.append(i)\n",
    "print(even)"
   ]
  },
  {
   "cell_type": "code",
   "execution_count": 3,
   "metadata": {},
   "outputs": [
    {
     "name": "stdout",
     "output_type": "stream",
     "text": [
      "[10, 88, 76, 96, 84]\n"
     ]
    }
   ],
   "source": [
    "l = [10,15,88,76,25,96,84,17,79]\n",
    "i = 0\n",
    "even =[]\n",
    "while i<len(l):\n",
    "    if l[i]%2==0:\n",
    "        even.append(l[i])\n",
    "    i+=1\n",
    "print(even)"
   ]
  },
  {
   "cell_type": "code",
   "execution_count": 4,
   "metadata": {},
   "outputs": [
    {
     "data": {
      "text/plain": [
       "[10, 88, 76, 96, 84]"
      ]
     },
     "execution_count": 4,
     "metadata": {},
     "output_type": "execute_result"
    }
   ],
   "source": [
    "def even(coll,start=0,res=[]):\n",
    "    if start==len(coll):\n",
    "        return res\n",
    "    if coll[start]%2==0:\n",
    "        res+=[coll[start]]\n",
    "    return even(coll,start+1,res)\n",
    "even(l)"
   ]
  },
  {
   "cell_type": "code",
   "execution_count": 8,
   "metadata": {},
   "outputs": [
    {
     "name": "stdout",
     "output_type": "stream",
     "text": [
      "[10, None, 88, 76, None, 96, 84, None, None]\n"
     ]
    }
   ],
   "source": [
    "l = [10,15,88,76,25,96,84,17,79]\n",
    "\n",
    "var = list(map(lambda num:num if num%2==0 else None,l))\n",
    "print(var)\n"
   ]
  },
  {
   "cell_type": "code",
   "execution_count": 11,
   "metadata": {},
   "outputs": [
    {
     "name": "stdout",
     "output_type": "stream",
     "text": [
      "[10, 88, 76, 96, 84]\n"
     ]
    }
   ],
   "source": [
    "#using filter and None\n",
    "#filter works as map but when None is eliminated if used\n",
    "l = [10,15,88,76,25,96,84,17,79]\n",
    "\n",
    "var = list(filter(lambda num:num if num%2==0 else None,l))\n",
    "print(var)"
   ]
  },
  {
   "cell_type": "code",
   "execution_count": 12,
   "metadata": {},
   "outputs": [
    {
     "name": "stdout",
     "output_type": "stream",
     "text": [
      "[10, 15, 88, 76, 25, 96, 84, 17, 79]\n"
     ]
    }
   ],
   "source": [
    "#using filter and None\n",
    "#filter works as map but when None is not used returns the elements as they are\n",
    "l = [10,15,88,76,25,96,84,17,79]\n",
    "\n",
    "var = list(filter(lambda num:num if num%2==0 else 100,l))\n",
    "print(var)"
   ]
  }
 ],
 "metadata": {
  "kernelspec": {
   "display_name": "Python 3",
   "language": "python",
   "name": "python3"
  },
  "language_info": {
   "codemirror_mode": {
    "name": "ipython",
    "version": 3
   },
   "file_extension": ".py",
   "mimetype": "text/x-python",
   "name": "python",
   "nbconvert_exporter": "python",
   "pygments_lexer": "ipython3",
   "version": "3.11.4"
  },
  "orig_nbformat": 4
 },
 "nbformat": 4,
 "nbformat_minor": 2
}
