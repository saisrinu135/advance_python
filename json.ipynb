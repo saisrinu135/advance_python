{
 "cells": [
  {
   "cell_type": "code",
   "execution_count": 1,
   "metadata": {},
   "outputs": [
    {
     "name": "stdout",
     "output_type": "stream",
     "text": [
      "{'name': 'Raja', 'age': 23, 'email': 'raja@gmail.com'} <class 'dict'>\n",
      "{\"name\": \"Raja\", \"age\": 23, \"email\": \"raja@gmail.com\"} <class 'str'>\n"
     ]
    }
   ],
   "source": [
    "import json\n",
    "data = {'name':'Raja','age':23,'email':'raja@gmail.com'}\n",
    "print(data,type(data))\n",
    "json_file = json.dumps(data)\n",
    "print(json_file,type(json_file))  #always string"
   ]
  },
  {
   "cell_type": "code",
   "execution_count": 2,
   "metadata": {},
   "outputs": [
    {
     "name": "stdout",
     "output_type": "stream",
     "text": [
      "{\"10\": 10.5, \"true\": false, \"Hello\": \"raja@gmail.com\"} <class 'str'>\n"
     ]
    }
   ],
   "source": [
    "data = {10:10.5,True:False,'''Hello''':'raja@gmail.com'}\n",
    "json_file=json.dumps(data)\n",
    "print(json_file,type(json_file)) #str"
   ]
  },
  {
   "cell_type": "markdown",
   "metadata": {},
   "source": [
    "Note: Accepts only int,float,string, bool, None as keys.\n",
    "set, complex, bytes cannot be serialized niether as keys nor values.\n",
    "If tuples is parsed, it will converted into list and then parsed\n",
    "String are only double quotes (\"\")\n",
    "even single quotes or triple quotes are parsed, converted into double quotes."
   ]
  },
  {
   "cell_type": "code",
   "execution_count": 3,
   "metadata": {},
   "outputs": [
    {
     "name": "stdout",
     "output_type": "stream",
     "text": [
      "(10, 20, 30) <class 'tuple'>\n",
      "[10, 20, 30] <class 'str'>\n"
     ]
    }
   ],
   "source": [
    "import json\n",
    "d = (10,20,30)  #tuple\n",
    "print(d,type(d))\n",
    "json_file=json.dumps(d) #converted as list as serialized.\n",
    "print(json_file,type(json_file))"
   ]
  },
  {
   "cell_type": "code",
   "execution_count": 5,
   "metadata": {},
   "outputs": [],
   "source": [
    "#writing in file using dumps\n",
    "import json\n",
    "fp = open(\"demo.json\",'w')\n",
    "data = {10:10.5,True:False,'''Hello''':'raja@gmail.com'}\n",
    "res = json.dumps(data)\n",
    "fp.write(res)\n",
    "fp.close()"
   ]
  },
  {
   "cell_type": "code",
   "execution_count": 6,
   "metadata": {},
   "outputs": [],
   "source": [
    "#writing in file using dump\n",
    "\n",
    "import json\n",
    "fp = open(\"sample.json\",'w')\n",
    "data = {10:10.5,True:False,'''Hello''':'raja@gmail.com'}\n",
    "json.dump(data,fp)\n",
    "fp.close()"
   ]
  },
  {
   "cell_type": "code",
   "execution_count": 7,
   "metadata": {},
   "outputs": [
    {
     "name": "stdout",
     "output_type": "stream",
     "text": [
      "{10: 10.5, True: False, 'Hello': 'raja@gmail.com'} <class 'dict'>\n",
      "\"{\\\"10\\\": 10.5, \\\"true\\\": false, \\\"Hello\\\": \\\"raja@gmail.com\\\"}\" <class 'str'>\n",
      "********************\n",
      "\"{\\\"10\\\": 10.5, \\\"true\\\": false, \\\"Hello\\\": \\\"raja@gmail.com\\\"}\" <class 'str'>\n",
      "{\"10\": 10.5, \"true\": false, \"Hello\": \"raja@gmail.com\"} <class 'str'>\n"
     ]
    }
   ],
   "source": [
    "import json\n",
    "#serialization\n",
    "\n",
    "data = {10:10.5,True:False,'''Hello''':'raja@gmail.com'}\n",
    "print(data,type(data))\n",
    "res = json.dumps(res)\n",
    "print(res,type(res))\n",
    "\n",
    "print('*'*20)\n",
    "\n",
    "#deserialization\n",
    "print(res,type(res))\n",
    "temp = json.loads(res)\n",
    "print(temp,type(temp))"
   ]
  },
  {
   "cell_type": "markdown",
   "metadata": {},
   "source": [
    "Keys are strings always so even after converting into python, keys are strings\n",
    "values are converted into datatypes of python\n",
    "tuples which are converted to lists during serialization, cannot be converted back to tuple during deserialization"
   ]
  },
  {
   "cell_type": "code",
   "execution_count": 5,
   "metadata": {},
   "outputs": [
    {
     "name": "stdout",
     "output_type": "stream",
     "text": [
      "{10: 10.5, True: False, 'Hello': 'raja@gmail.com'} <class 'dict'>\n",
      "{\"10\": 10.5, \"true\": false, \"Hello\": \"raja@gmail.com\"}\n",
      "********************\n",
      "{'10': 10.5, 'true': False, 'Hello': 'raja@gmail.com'} <class 'dict'>\n"
     ]
    }
   ],
   "source": [
    "import json\n",
    "#serialization\n",
    "\n",
    "fp = open(\"jsonfile.json\",'w')\n",
    "data = {10:10.5,True:False,'''Hello''':'raja@gmail.com'}\n",
    "print(data,type(data))\n",
    "json.dumps(data)\n",
    "fp.write(res)\n",
    "print(res)\n",
    "fp.close()\n",
    "\n",
    "\n",
    "print('*'*20)\n",
    "\n",
    "#deserialization\n",
    "fp = open(\"jsonfile.json\",'r')\n",
    "res = fp.read()\n",
    "temp=json.loads(res)\n",
    "fp.close()\n",
    "print(temp,type(temp))"
   ]
  },
  {
   "cell_type": "code",
   "execution_count": 8,
   "metadata": {},
   "outputs": [
    {
     "name": "stdout",
     "output_type": "stream",
     "text": [
      "{10: 10.5, True: False, 'Hello': 'raja@gmail.com'} <class 'dict'>\n",
      "{'10': 10.5, 'true': False, 'Hello': 'raja@gmail.com'}\n"
     ]
    }
   ],
   "source": [
    "import json\n",
    "#serialization with dump into file\n",
    "\n",
    "fp = open(\"jsonfileload.json\",'w')\n",
    "data = {10:10.5,True:False,'''Hello''':'raja@gmail.com'}\n",
    "print(data,type(data))\n",
    "json.dump(data,fp)\n",
    "fp.close()\n",
    "\n",
    "#deserialization with load from file\n",
    "\n",
    "fp = open(\"jsonfileload.json\",'r')\n",
    "data = json.load(fp)\n",
    "print(data)\n",
    "fp.close()"
   ]
  }
 ],
 "metadata": {
  "kernelspec": {
   "display_name": "Python 3",
   "language": "python",
   "name": "python3"
  },
  "language_info": {
   "codemirror_mode": {
    "name": "ipython",
    "version": 3
   },
   "file_extension": ".py",
   "mimetype": "text/x-python",
   "name": "python",
   "nbconvert_exporter": "python",
   "pygments_lexer": "ipython3",
   "version": "3.11.4"
  },
  "orig_nbformat": 4
 },
 "nbformat": 4,
 "nbformat_minor": 2
}
