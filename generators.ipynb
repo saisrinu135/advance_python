{
 "cells": [
  {
   "cell_type": "code",
   "execution_count": 9,
   "metadata": {},
   "outputs": [
    {
     "name": "stdout",
     "output_type": "stream",
     "text": [
      "[0, 1, 2, 3, 4, 5, 6, 7, 8, 9]\n"
     ]
    }
   ],
   "source": [
    "def sample(n):\n",
    "    for i in range(10):\n",
    "        yield i\n",
    "res = sample(5)\n",
    "print(list(res))\n"
   ]
  },
  {
   "cell_type": "code",
   "execution_count": 12,
   "metadata": {},
   "outputs": [
    {
     "data": {
      "text/plain": [
       "<generator object pen at 0x000001A1F968F760>"
      ]
     },
     "execution_count": 12,
     "metadata": {},
     "output_type": "execute_result"
    }
   ],
   "source": [
    "def pen(n):\n",
    "    for i in range(0,n):\n",
    "        print(\"Hello\")\n",
    "        yield i\n",
    "obj = pen(4)\n",
    "obj #just accessed generator object so address is displayed"
   ]
  },
  {
   "cell_type": "code",
   "execution_count": 16,
   "metadata": {},
   "outputs": [
    {
     "name": "stdout",
     "output_type": "stream",
     "text": [
      "Hello\n",
      "Hello\n",
      "Hello\n",
      "Hello\n",
      "[0, 1, 2, 3]\n"
     ]
    }
   ],
   "source": [
    "def pen(n):\n",
    "    for i in range(0,n):\n",
    "        print(\"Hello\")\n",
    "        yield i\n",
    "obj = pen(4)\n",
    "print(list(obj)) #used the generator object so output is displayed and the output can be used only once"
   ]
  },
  {
   "cell_type": "code",
   "execution_count": 17,
   "metadata": {},
   "outputs": [
    {
     "name": "stdout",
     "output_type": "stream",
     "text": [
      "Hello\n",
      "Hello\n",
      "Hello\n",
      "Hello\n",
      "[0, 1, 2, 3]\n",
      "[]\n"
     ]
    }
   ],
   "source": [
    "def pen(n):\n",
    "    for i in range(0,n):\n",
    "        print(\"Hello\")\n",
    "        yield i\n",
    "obj = pen(4)\n",
    "print(list(obj)) \n",
    "print(list(obj))  #second time "
   ]
  },
  {
   "cell_type": "code",
   "execution_count": 18,
   "metadata": {},
   "outputs": [
    {
     "name": "stdout",
     "output_type": "stream",
     "text": [
      "Hello\n",
      "0\n",
      "Hello\n",
      "1\n",
      "Hello\n",
      "2\n",
      "Hello\n",
      "3\n"
     ]
    }
   ],
   "source": [
    "def pen(n):\n",
    "    for i in range(0,n):\n",
    "        print(\"Hello\")\n",
    "        yield i\n",
    "obj = pen(4)\n",
    "for i in obj:\n",
    "    print(i)"
   ]
  },
  {
   "cell_type": "code",
   "execution_count": 26,
   "metadata": {},
   "outputs": [
    {
     "name": "stdout",
     "output_type": "stream",
     "text": [
      "Hello\n",
      "0\n",
      "Hello\n",
      "1\n",
      "Hello\n",
      "2\n",
      "Hello\n",
      "3\n"
     ]
    },
    {
     "ename": "StopIteration",
     "evalue": "",
     "output_type": "error",
     "traceback": [
      "\u001b[1;31m---------------------------------------------------------------------------\u001b[0m",
      "\u001b[1;31mStopIteration\u001b[0m                             Traceback (most recent call last)",
      "Cell \u001b[1;32mIn[26], line 11\u001b[0m\n\u001b[0;32m      9\u001b[0m \u001b[39mprint\u001b[39m(\u001b[39mnext\u001b[39m(res))\n\u001b[0;32m     10\u001b[0m \u001b[39mprint\u001b[39m(\u001b[39mnext\u001b[39m(res))\n\u001b[1;32m---> 11\u001b[0m \u001b[39mprint\u001b[39m(\u001b[39mnext\u001b[39;49m(res))        \u001b[39m#raises error since there are no other elements to display\u001b[39;00m\n",
      "\u001b[1;31mStopIteration\u001b[0m: "
     ]
    }
   ],
   "source": [
    "def pen(n):\n",
    "    for i in range(0,n):\n",
    "        print(\"Hello\")\n",
    "        yield i\n",
    "obj = pen(4)\n",
    "res = iter(obj)\n",
    "print(next(res))\n",
    "print(next(res))\n",
    "print(next(res))\n",
    "print(next(res))\n",
    "print(next(res))        #raises error since there are no other elements to display"
   ]
  },
  {
   "cell_type": "code",
   "execution_count": 2,
   "metadata": {},
   "outputs": [
    {
     "name": "stdout",
     "output_type": "stream",
     "text": [
      "Hello\n",
      "Hello\n",
      "Hello\n",
      "Hello\n",
      "{0: 0, 1: 1, 2: 4, 3: 9}\n"
     ]
    }
   ],
   "source": [
    "def pen(n):\n",
    "    for i in range(n):\n",
    "        print(\"Hello\")\n",
    "        yield (i,i**2)\n",
    "obj = pen(4)\n",
    "print(dict(obj))"
   ]
  },
  {
   "cell_type": "code",
   "execution_count": 3,
   "metadata": {},
   "outputs": [
    {
     "name": "stdout",
     "output_type": "stream",
     "text": [
      "hello\n",
      "0 0 0\n",
      "hello\n",
      "1 1 1\n",
      "hello\n",
      "2 4 8\n",
      "hello\n",
      "3 9 27\n"
     ]
    }
   ],
   "source": [
    "def pen(n):\n",
    "    for i in range(n):\n",
    "        print(\"hello\")\n",
    "        yield (i,i**2,i**3)\n",
    "obj = pen(4)\n",
    "for i, j, k in obj:\n",
    "    print(i,j,k)"
   ]
  }
 ],
 "metadata": {
  "kernelspec": {
   "display_name": "Python 3",
   "language": "python",
   "name": "python3"
  },
  "language_info": {
   "codemirror_mode": {
    "name": "ipython",
    "version": 3
   },
   "file_extension": ".py",
   "mimetype": "text/x-python",
   "name": "python",
   "nbconvert_exporter": "python",
   "pygments_lexer": "ipython3",
   "version": "3.11.4"
  },
  "orig_nbformat": 4
 },
 "nbformat": 4,
 "nbformat_minor": 2
}
