{
 "cells": [
  {
   "cell_type": "code",
   "execution_count": 1,
   "metadata": {},
   "outputs": [
    {
     "data": {
      "text/plain": [
       "[0, 1, 2, 3, 4, 5, 6, 7, 8, 9]"
      ]
     },
     "execution_count": 1,
     "metadata": {},
     "output_type": "execute_result"
    }
   ],
   "source": [
    "list(range(0,10))"
   ]
  },
  {
   "cell_type": "code",
   "execution_count": 3,
   "metadata": {},
   "outputs": [
    {
     "name": "stdout",
     "output_type": "stream",
     "text": [
      "[0, 1, 2, 3, 4, 5, 6, 7, 8, 9]\n"
     ]
    }
   ],
   "source": [
    "l = []\n",
    "for i in range(0,10):\n",
    "    l+=[i]\n",
    "print(l)"
   ]
  },
  {
   "cell_type": "code",
   "execution_count": 6,
   "metadata": {},
   "outputs": [
    {
     "name": "stdout",
     "output_type": "stream",
     "text": [
      "[0, 1, 2, 3, 4, 5, 6, 7, 8, 9]\n"
     ]
    }
   ],
   "source": [
    "l = [num for num in range(0,10)]\n",
    "print(l)"
   ]
  },
  {
   "cell_type": "code",
   "execution_count": 4,
   "metadata": {},
   "outputs": [
    {
     "name": "stdout",
     "output_type": "stream",
     "text": [
      "[0, 1, 4, 9, 16, 25, 36, 49, 64, 81]\n"
     ]
    }
   ],
   "source": [
    "l = []\n",
    "for i in range(0,10):\n",
    "    l+=[i**2]\n",
    "print(l)"
   ]
  },
  {
   "cell_type": "code",
   "execution_count": 8,
   "metadata": {},
   "outputs": [
    {
     "name": "stdout",
     "output_type": "stream",
     "text": [
      "[0, 1, 4, 9, 16, 25, 36, 49, 64, 81]\n"
     ]
    }
   ],
   "source": [
    "l = [num**2 for num in range(0,10)]\n",
    "print(l)"
   ]
  },
  {
   "cell_type": "code",
   "execution_count": 12,
   "metadata": {},
   "outputs": [
    {
     "name": "stdout",
     "output_type": "stream",
     "text": [
      "HESSL@OOO\n"
     ]
    }
   ],
   "source": [
    "st = \"hessl@OOO\"\n",
    "l = \"\".join([chr(ord(char)-32) if \"a\"<=char<=\"z\" else char for char in st])\n",
    "print(l)"
   ]
  },
  {
   "cell_type": "code",
   "execution_count": 13,
   "metadata": {},
   "outputs": [
    {
     "name": "stdout",
     "output_type": "stream",
     "text": [
      "hessl@ooo\n"
     ]
    }
   ],
   "source": [
    "st = \"hessl@OOO\"\n",
    "l = \"\".join([chr(ord(char)+32) if \"A\"<=char<=\"Z\" else char for char in st])\n",
    "print(l)"
   ]
  },
  {
   "cell_type": "code",
   "execution_count": 14,
   "metadata": {},
   "outputs": [
    {
     "name": "stdout",
     "output_type": "stream",
     "text": [
      "laptop\n"
     ]
    }
   ],
   "source": [
    "st = \"LAPtop\"\n",
    "\n",
    "l = \"\".join([[i,chr(ord(i)+32)][\"A\"<=i<=\"Z\"] for i in st])\n",
    "print(l)"
   ]
  },
  {
   "cell_type": "code",
   "execution_count": 16,
   "metadata": {},
   "outputs": [
    {
     "name": "stdout",
     "output_type": "stream",
     "text": [
      "['l', 'a', 'p', 't', 'o', 'p']\n",
      "<generator object <genexpr> at 0x00000132744C73D0>\n",
      "[]\n"
     ]
    }
   ],
   "source": [
    "st = \"LAPtop\"\n",
    "\n",
    "#tuple comprehensions\n",
    "\n",
    "l = ([i,chr(ord(i)+32)][\"A\"<=i<=\"Z\"] for i in st)\n",
    "#generator object\n",
    "print(list(l))\n",
    "\n",
    "print(l)\n",
    "print(list(l))  #can be used only once so prints empty\n"
   ]
  },
  {
   "cell_type": "code",
   "execution_count": 24,
   "metadata": {},
   "outputs": [
    {
     "name": "stdout",
     "output_type": "stream",
     "text": [
      "{'p', 'l', 'a', 'o', 't'}\n"
     ]
    }
   ],
   "source": [
    "st = \"LAPtop\"\n",
    "\n",
    "l={[i,chr(ord(i)+32)][\"A\"<=i<='Z'] for i in st}\n",
    "print(l)"
   ]
  },
  {
   "cell_type": "code",
   "execution_count": 22,
   "metadata": {},
   "outputs": [
    {
     "name": "stdout",
     "output_type": "stream",
     "text": [
      "{'L': 76, 'A': 65, 'P': 80, 't': 116, 'o': 111, 'p': 112}\n"
     ]
    }
   ],
   "source": [
    "st = \"LAPtop\"\n",
    "l = {i:ord(i) for i in st}\n",
    "print(l)"
   ]
  },
  {
   "cell_type": "code",
   "execution_count": 28,
   "metadata": {},
   "outputs": [
    {
     "name": "stdout",
     "output_type": "stream",
     "text": [
      "@123\n"
     ]
    }
   ],
   "source": [
    "#wap to extract special characters and numbers for the given string\n",
    "\n",
    "st = \"LAPtop@123\"\n",
    "l =\"\".join([i for i in st if not(\"A\"<=i<=\"Z\" or 'a'<=i<='z')])\n",
    "print(l)\n"
   ]
  },
  {
   "cell_type": "code",
   "execution_count": 36,
   "metadata": {},
   "outputs": [
    {
     "name": "stdout",
     "output_type": "stream",
     "text": [
      "LApto@%*\n"
     ]
    }
   ],
   "source": [
    "#wap to extract special characters alphabts and eliminate the duplicates\n",
    "\n",
    "st = \"LAptop@123@2%*\"\n",
    "res=\"\"\n",
    "for char in st:\n",
    "    if not ('0'<=char<='9'):\n",
    "        if char not in res:\n",
    "            res+=char\n",
    "print(res)"
   ]
  },
  {
   "cell_type": "code",
   "execution_count": 51,
   "metadata": {},
   "outputs": [
    {
     "name": "stdout",
     "output_type": "stream",
     "text": [
      "pa@toL\n"
     ]
    }
   ],
   "source": [
    "#set comprehension\n",
    "\n",
    "st = \"Laptop@@L\"\n",
    "l={char for char in st if not(\"0\"<=char<=\"9\") }\n",
    "print(\"\".join(l))"
   ]
  }
 ],
 "metadata": {
  "kernelspec": {
   "display_name": "Python 3",
   "language": "python",
   "name": "python3"
  },
  "language_info": {
   "codemirror_mode": {
    "name": "ipython",
    "version": 3
   },
   "file_extension": ".py",
   "mimetype": "text/x-python",
   "name": "python",
   "nbconvert_exporter": "python",
   "pygments_lexer": "ipython3",
   "version": "3.11.4"
  },
  "orig_nbformat": 4
 },
 "nbformat": 4,
 "nbformat_minor": 2
}
