{
 "cells": [
  {
   "cell_type": "code",
   "execution_count": 17,
   "metadata": {},
   "outputs": [
    {
     "name": "stdout",
     "output_type": "stream",
     "text": [
      "Iter\n",
      "This function is being called\n",
      "0\n",
      "This function is being called\n",
      "1\n",
      "This function is being called\n",
      "2\n",
      "This function is being called\n",
      "3\n",
      "This function is being called\n",
      "4\n",
      "This function is being called\n",
      "5\n",
      "This function is being called\n",
      "6\n",
      "This function is being called\n",
      "7\n",
      "This function is being called\n",
      "8\n",
      "This function is being called\n",
      "9\n",
      "This function is being called\n"
     ]
    }
   ],
   "source": [
    "# User defined range function\n",
    "\n",
    "class series:\n",
    "    def __init__(self,start,end,up):\n",
    "        self.start = start\n",
    "        self.end = end\n",
    "        self.up = up\n",
    "\n",
    "    def __iter__(self):\n",
    "        print(\"Iter\")\n",
    "        return self\n",
    "    \n",
    "    def __next__(self):\n",
    "        print(\"This function is being called\")\n",
    "        if self.start<self.end:\n",
    "            res = self.start\n",
    "            self.start+=1\n",
    "            return res\n",
    "        else:\n",
    "            raise StopIteration\n",
    "for i in series(0,10,1):\n",
    "    print(i)"
   ]
  },
  {
   "cell_type": "code",
   "execution_count": 18,
   "metadata": {},
   "outputs": [
    {
     "name": "stdout",
     "output_type": "stream",
     "text": [
      "Iter\n",
      "This function is being called\n",
      "0\n",
      "This function is being called\n",
      "1\n",
      "This function is being called\n",
      "2\n",
      "This function is being called\n"
     ]
    },
    {
     "ename": "StopIteration",
     "evalue": "",
     "output_type": "error",
     "traceback": [
      "\u001b[1;31m---------------------------------------------------------------------------\u001b[0m",
      "\u001b[1;31mStopIteration\u001b[0m                             Traceback (most recent call last)",
      "Cell \u001b[1;32mIn[18], line 7\u001b[0m\n\u001b[0;32m      5\u001b[0m \u001b[39mprint\u001b[39m(\u001b[39mnext\u001b[39m(obj))    \u001b[39m#prints 1\u001b[39;00m\n\u001b[0;32m      6\u001b[0m \u001b[39mprint\u001b[39m(\u001b[39mnext\u001b[39m(obj))    \u001b[39m#prints 2\u001b[39;00m\n\u001b[1;32m----> 7\u001b[0m \u001b[39mprint\u001b[39m(\u001b[39mnext\u001b[39;49m(obj))    \u001b[39m#raises StopIteration error as iterations are over\u001b[39;00m\n",
      "Cell \u001b[1;32mIn[17], line 20\u001b[0m, in \u001b[0;36mseries.__next__\u001b[1;34m(self)\u001b[0m\n\u001b[0;32m     18\u001b[0m     \u001b[39mreturn\u001b[39;00m res\n\u001b[0;32m     19\u001b[0m \u001b[39melse\u001b[39;00m:\n\u001b[1;32m---> 20\u001b[0m     \u001b[39mraise\u001b[39;00m \u001b[39mStopIteration\u001b[39;00m\n",
      "\u001b[1;31mStopIteration\u001b[0m: "
     ]
    }
   ],
   "source": [
    "# Works similar with iter and next functions\n",
    "\n",
    "obj = iter(series(0,3,1))\n",
    "print(next(obj))    #prints 0\n",
    "print(next(obj))    #prints 1\n",
    "print(next(obj))    #prints 2\n",
    "print(next(obj))    #raises StopIteration error as iterations are over"
   ]
  },
  {
   "cell_type": "code",
   "execution_count": 19,
   "metadata": {},
   "outputs": [
    {
     "name": "stdout",
     "output_type": "stream",
     "text": [
      "a\n",
      "b\n",
      "c\n"
     ]
    }
   ],
   "source": [
    "#we can extract values from collection using below class\n",
    "\n",
    "# User defined range function\n",
    "\n",
    "class series:\n",
    "    def __init__(self,coll,start=0,end=None,up=1):\n",
    "        self.coll = coll\n",
    "        self.start = start\n",
    "        self.end=[0,len(self.coll)][end==None]\n",
    "        self.up = up\n",
    "\n",
    "    def __iter__(self):\n",
    "        return self\n",
    "    \n",
    "    def __next__(self):\n",
    "        if self.start<self.end:\n",
    "            res = self.coll[self.start]\n",
    "            self.start+=self.up\n",
    "            return res\n",
    "        else:\n",
    "            raise StopIteration\n",
    "l = ['a','b','c']\n",
    "for i in series(l):\n",
    "    print(i)"
   ]
  },
  {
   "cell_type": "code",
   "execution_count": 20,
   "metadata": {},
   "outputs": [
    {
     "name": "stdout",
     "output_type": "stream",
     "text": [
      "(0, 'a')\n",
      "(1, 'b')\n",
      "(2, 'c')\n",
      "(3, 'd')\n",
      "(4, 'e')\n",
      "(5, 'f')\n",
      "(6, 'g')\n",
      "(7, 'h')\n"
     ]
    }
   ],
   "source": [
    "# User defined enumerate function using oops\n",
    "\n",
    "class series:\n",
    "    def __init__(self,coll,start=0,end=None,up=1):\n",
    "        self.start=start\n",
    "        self.coll=coll\n",
    "        self.end = [0,len(self.coll)][end==None]\n",
    "        self.up=up\n",
    "    \n",
    "    def __iter__(self):\n",
    "        return self\n",
    "    def __next__(self):\n",
    "        if self.start<self.end:\n",
    "            res = (self.start,self.coll[self.start])\n",
    "            self.start+=self.up\n",
    "            return res\n",
    "        else:\n",
    "            raise StopIteration\n",
    "\n",
    "l = ['a','b','c','d','e','f','g','h']\n",
    "obj = iter(series(l))\n",
    "for i in obj:\n",
    "    print(i)\n",
    "#It acts as enumerate function"
   ]
  },
  {
   "cell_type": "code",
   "execution_count": 22,
   "metadata": {},
   "outputs": [
    {
     "name": "stdout",
     "output_type": "stream",
     "text": [
      "0 a\n",
      "1 b\n",
      "2 c\n",
      "3 d\n",
      "4 e\n",
      "5 f\n",
      "6 g\n",
      "7 h\n"
     ]
    }
   ],
   "source": [
    "for i,j in series(l):\n",
    "    print(i,j)"
   ]
  },
  {
   "cell_type": "code",
   "execution_count": 21,
   "metadata": {},
   "outputs": [
    {
     "name": "stdout",
     "output_type": "stream",
     "text": [
      "(0, 'a')\n",
      "(1, 'b')\n",
      "(2, 'c')\n",
      "(3, 'd')\n",
      "(4, 'e')\n",
      "(5, 'f')\n",
      "(6, 'g')\n",
      "(7, 'h')\n"
     ]
    }
   ],
   "source": [
    "for i in enumerate(l):\n",
    "    print(i)"
   ]
  },
  {
   "cell_type": "code",
   "execution_count": null,
   "metadata": {},
   "outputs": [],
   "source": []
  }
 ],
 "metadata": {
  "kernelspec": {
   "display_name": "Python 3",
   "language": "python",
   "name": "python3"
  },
  "language_info": {
   "codemirror_mode": {
    "name": "ipython",
    "version": 3
   },
   "file_extension": ".py",
   "mimetype": "text/x-python",
   "name": "python",
   "nbconvert_exporter": "python",
   "pygments_lexer": "ipython3",
   "version": "3.11.4"
  },
  "orig_nbformat": 4
 },
 "nbformat": 4,
 "nbformat_minor": 2
}
