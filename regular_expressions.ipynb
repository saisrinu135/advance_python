{
 "cells": [
  {
   "cell_type": "code",
   "execution_count": 1,
   "metadata": {},
   "outputs": [
    {
     "name": "stdout",
     "output_type": "stream",
     "text": [
      "['9988774411', '8907654321', '6666666667']\n"
     ]
    }
   ],
   "source": [
    "import re\n",
    "data = '''welcome to python class 9988774411\n",
    "and 8907654321 and 6666666667 1800 890 876'''\n",
    "res = re.findall('[6789]{1}[0-9]{9}',data)\n",
    "print(res)"
   ]
  },
  {
   "cell_type": "code",
   "execution_count": 2,
   "metadata": {},
   "outputs": [
    {
     "name": "stdout",
     "output_type": "stream",
     "text": [
      "['9988774411', '8907654321', '6666666667']\n"
     ]
    }
   ],
   "source": [
    "import re\n",
    "data = '''welcome to python class 9988774411\n",
    "and 8907654321 and 6666666667 1800 890 876'''\n",
    "res = re.findall('[16789]{1}[0-9]{9}',data)\n",
    "print(res)"
   ]
  },
  {
   "cell_type": "code",
   "execution_count": 3,
   "metadata": {},
   "outputs": [
    {
     "name": "stdout",
     "output_type": "stream",
     "text": [
      "['9988774411', '8907654321', '6666666667', '1800 890 876']\n"
     ]
    }
   ],
   "source": [
    "import re\n",
    "data = '''welcome to python class 9988774411\n",
    "and 8907654321 and 6666666667 1800 890 876'''\n",
    "res = re.findall('[16789]{1}[0-9]{3}\\s?[0-9]{3}\\s?[0-9]{3}',data)       #toll free number\n",
    "print(res)"
   ]
  },
  {
   "cell_type": "code",
   "execution_count": 5,
   "metadata": {},
   "outputs": [
    {
     "name": "stdout",
     "output_type": "stream",
     "text": [
      "['9988774411', '8907654321', '6666666667', '1800 890 876', '1800890876']\n"
     ]
    }
   ],
   "source": [
    "import re\n",
    "data = '''welcome to python class 9988774411\n",
    "and 8907654321 and 6666666667 1800 890 876 and 1800890876'''\n",
    "res = re.findall('[16789]{1}[0-9]{3}\\s?[0-9]{3}\\s?[0-9]{3}',data)     #toll free number without spaces\n",
    "print(res)"
   ]
  },
  {
   "cell_type": "code",
   "execution_count": 3,
   "metadata": {},
   "outputs": [
    {
     "name": "stdout",
     "output_type": "stream",
     "text": [
      "['+919988774421', '+91 9888774421']\n"
     ]
    }
   ],
   "source": [
    "import re\n",
    "data = '''welcome to python class 9988774411, +919988774421, +91 9888774421\n",
    "and 8907654321 and 6666666667 1800 890 876 and 1800890876'''\n",
    "res = re.findall('\\+[0-9]{1,2}\\s?[6789]{1}[0-9]{9}',data)     # for mobile numbers with country code\n",
    "print(res)"
   ]
  },
  {
   "cell_type": "code",
   "execution_count": 2,
   "metadata": {},
   "outputs": [
    {
     "name": "stdout",
     "output_type": "stream",
     "text": [
      "['9988774411', '+919988774421', '+91 9888774421', '8907654321', '6666666667', '1800 890 876', '1800890876']\n"
     ]
    }
   ],
   "source": [
    "import re\n",
    "data = '''welcome to python class 9988774411, +919988774421, +91 9888774421\n",
    "and 8907654321 and 6666666667 1800 890 876 and 1800890876'''\n",
    "res = re.findall('\\+[0-9]{1,2}\\s?[6789]{1}[0-9]{9}|[16789]{1}[0-9]{3}\\s?[0-9]{3}\\s?[0-9]{3}',data)      # for mobile numbers with country code and without country code using | operator\n",
    "print(res)"
   ]
  },
  {
   "cell_type": "code",
   "execution_count": 15,
   "metadata": {},
   "outputs": [
    {
     "name": "stdout",
     "output_type": "stream",
     "text": [
      "['+1 (456) 567-1432', '+1(456)567-1432']\n"
     ]
    }
   ],
   "source": [
    "#for us mobile numbers\n",
    "import re\n",
    "data = '+1 (456) 567-1432 abcdefghijklmnop +1(456)567-1432'\n",
    "res = re.findall('\\+[1]\\s?\\([0-9]{3}\\)\\s?[0-9]{3}\\-[0-9]{4}',data)\n",
    "print(res)"
   ]
  },
  {
   "cell_type": "code",
   "execution_count": 17,
   "metadata": {},
   "outputs": [
    {
     "name": "stdout",
     "output_type": "stream",
     "text": [
      "['9988774411', '+919988774421', '+91 9888774421', '+1(456)567-1432', '8907654321', '6666666667', '+1 (456) 567-1432', '1800890876']\n"
     ]
    }
   ],
   "source": [
    "#for us and indian numbers using |\n",
    "import re\n",
    "data = '''welcome to python class 9988774411, +919988774421, +91 9888774421 +1(456)567-1432 and 8907654321 and 6666666667 1800 890  +1 (456) 567-1432 876 and 1800890876'''\n",
    "res = re.findall('\\+[1]\\s?\\([0-9]{3}\\)\\s?[0-9]{3}\\-[0-9]{4}|\\+[0-9]{1,2}\\s?[6789]{1}[0-9]{9}|[16789]{1}[0-9]{3}\\s?[0-9]{3}\\s?[0-9]{3}',data)      # for mobile numbers with country code and without country code using | operator\n",
    "print(res)"
   ]
  },
  {
   "cell_type": "code",
   "execution_count": 24,
   "metadata": {},
   "outputs": [
    {
     "name": "stdout",
     "output_type": "stream",
     "text": [
      "['ap16 cl 6937', 'ts07ag0799', 'kn 71cf7986']\n"
     ]
    }
   ],
   "source": [
    "data = '''ap16 cl 6937 ts07ag0799 kn 71cf7986 dl y 5632 ap 05 1879 jgfj jh zjjcg vgscds j'''\n",
    "res = re.findall('[a-zA-Z]{2}\\s?[a-zA-Z0-9]{2}\\s?[a-zA-Z]{1,2}\\s?[0-9]{4}',data)\n",
    "print(res)"
   ]
  },
  {
   "cell_type": "code",
   "execution_count": 26,
   "metadata": {},
   "outputs": [
    {
     "name": "stdout",
     "output_type": "stream",
     "text": [
      "['dl y 5632', 'ap 05 1879']\n"
     ]
    }
   ],
   "source": [
    "data = '''ap16 cl 6937 ts07ag0799 kn 71cf7986 dl y 5632 ap 05 1879 jgfj jh zjjcg vgscds j'''\n",
    "res = re.findall('[a-zA-Z]{1,2}+\\s?[a-zA-Z0-9]{1,2}\\s?[0-9]{4}',data)\n",
    "print(res)"
   ]
  },
  {
   "cell_type": "code",
   "execution_count": 29,
   "metadata": {},
   "outputs": [
    {
     "name": "stdout",
     "output_type": "stream",
     "text": [
      "['ap16 cl 6937', 'ts07ag0799', 'kn 71cf7986', 'dl y 5632', 'ap 05 1879']\n"
     ]
    }
   ],
   "source": [
    "import re\n",
    "data = '''ap16 cl 6937 ts07ag0799 kn 71cf7986 dl y 5632 ap 05 1879 jgfj jh zjjcg vgscds j'''\n",
    "res = re.findall('[a-zA-Z]{1,2}+\\s?[a-zA-Z0-9]{1,2}\\s?[0-9]{4}|[a-zA-Z]{2}\\s?[a-zA-Z0-9]{2}\\s?[a-zA-Z]{1,2}\\s?[0-9]{4}',data)\n",
    "print(res)"
   ]
  },
  {
   "cell_type": "code",
   "execution_count": 30,
   "metadata": {},
   "outputs": [
    {
     "name": "stdout",
     "output_type": "stream",
     "text": [
      "['ap16 cl 6937', 'ts07ag0799', 'kn 71cf7986', 'dl y 5632', 'ap 05 1879']\n"
     ]
    }
   ],
   "source": [
    "import re\n",
    "data = '''ap16 cl 6937 ts07ag0799 kn 71cf7986 dl y 5632 ap 05 1879 jgfj jh zjjcg vgscds j'''\n",
    "res = re.findall('[a-zA-Z]{2}\\s?[0-9]{0,2}\\s?[a-zA-Z]{0,2}\\s?[0-9]{4}',data)\n",
    "print(res)"
   ]
  },
  {
   "cell_type": "code",
   "execution_count": 36,
   "metadata": {},
   "outputs": [
    {
     "name": "stdout",
     "output_type": "stream",
     "text": [
      "['venugopalgodavarthi@gmail.com', 'sai.srinu.123@yahoo.com', 'gvg.9966@gmail.com', 'g.venu.gopal@pyspiders.edu']\n"
     ]
    }
   ],
   "source": [
    "import re\n",
    "data = '''venugopalgodavarthi@gmail.com   jsewfbwe sai.srinu.123@yahoo.com   gvg.9966@gmail.com ne    g.venu.gopal@pyspiders.edu'''\n",
    "\n",
    "res = re.findall('[a-zA-Z0-9.]+\\.?\\w+[a-zA-Z0-9.]\\@[A-Za-z]{4,9}\\.[a-zA-Z]{2,3}',data)\n",
    "print(res)"
   ]
  },
  {
   "cell_type": "code",
   "execution_count": 38,
   "metadata": {},
   "outputs": [
    {
     "name": "stdout",
     "output_type": "stream",
     "text": [
      "['https://www.fb.com/', 'http://www.9ytube.edu', 'http://www.apsrtc.gov.in/', 'https://www.python.org', 'http://www.django.co.us/']\n"
     ]
    }
   ],
   "source": [
    "data = '''https://www.fb.com/login    febf http://www.9ytube.edu  shaha http://www.apsrtc.gov.in/home   https://www.python.org\n",
    "drhd  http://www.django.co.us/doc/sfgbyfcrc/ qwdbqu www.insta.com/login'''\n",
    "\n",
    "res = re.findall('http[s]?://www.\\w+\\.[a-zA-Z]{2,3}[A-Za-z.]*/?',data)\n",
    "print(res)"
   ]
  },
  {
   "cell_type": "code",
   "execution_count": 41,
   "metadata": {},
   "outputs": [
    {
     "name": "stdout",
     "output_type": "stream",
     "text": [
      "['https://www.fb.com/login', 'http://www.9ytube.edu', 'http://www.apsrtc.gov.in/home', 'https://www.python.org', 'http://www.django.co.us/doc/']\n"
     ]
    }
   ],
   "source": [
    "data = '''https://www.fb.com/login    febf http://www.9ytube.edu  shaha http://www.apsrtc.gov.in/home   https://www.python.org\n",
    "drhd  http://www.django.co.us/doc/sfgbyfcrc/ qwdbqu www.insta.com/login'''\n",
    "\n",
    "res = re.findall('http[s]?://www.\\w+\\.[a-zA-Z]{2,3}[A-Za-z.]*/?\\w+/?',data)\n",
    "print(res)"
   ]
  },
  {
   "cell_type": "code",
   "execution_count": 2,
   "metadata": {},
   "outputs": [
    {
     "name": "stdout",
     "output_type": "stream",
     "text": [
      "<callable_iterator object at 0x000001E821713B50>\n",
      "<re.Match object; span=(42, 52), match='BLOPG5805E'>\n",
      "<re.Match object; span=(53, 63), match='DLPGR6757R'>\n"
     ]
    }
   ],
   "source": [
    "# finditer function\n",
    "\n",
    "import re   \n",
    "data = 'Python is a scripting programing language BLOPG5805E DLPGR6757R jndchuch ghthg888i'\n",
    "res = re.finditer('[A-Za-z]{5}[0-9]{4}[A-Za-z]',data)       #returns an object\n",
    "print(res)#prints an object address\n",
    "for i in res:       #iterating the object to get the details in the object\n",
    "    print(i)"
   ]
  },
  {
   "cell_type": "code",
   "execution_count": 6,
   "metadata": {},
   "outputs": [
    {
     "name": "stdout",
     "output_type": "stream",
     "text": [
      "(42, 52)\n",
      "42 42\n",
      "52 52\n",
      "(53, 63)\n",
      "53 53\n",
      "63 63\n"
     ]
    }
   ],
   "source": [
    "import re\n",
    "data = 'Python is a scripting programing language BLOPG5805E DLPGR6757R jndchuch ghthg888i'\n",
    "res = re.finditer('[A-Za-z]{5}[0-9]{4}[A-Za-z]',data)\n",
    "for i in res:\n",
    "    print(i.span()) #prints the total span in a tuple\n",
    "    print(i.span()[0],i.start()) #two ways to get the starting index of object.\n",
    "    print(i.span()[1],i.end()) #two ways to get the ending index of object."
   ]
  },
  {
   "cell_type": "code",
   "execution_count": 13,
   "metadata": {},
   "outputs": [
    {
     "name": "stdout",
     "output_type": "stream",
     "text": [
      "(0, 10)\n",
      "0\n",
      "10\n",
      "friendship\n"
     ]
    }
   ],
   "source": [
    "import re\n",
    "data = 'friendshipday 28-08-2023 c echgey 25-12-2020 dcuh yugg 12/01/2012 hfd'\n",
    "res = re.match('friendship',data)\n",
    "print(res.span())   #prints both start and end index in tuple\n",
    "print(res.start())  #prints starting index\n",
    "print(res.end())    #prints ending index\n",
    "print(res.group())  #prints matched object"
   ]
  },
  {
   "cell_type": "code",
   "execution_count": 9,
   "metadata": {},
   "outputs": [
    {
     "name": "stdout",
     "output_type": "stream",
     "text": [
      "<re.Match object; span=(0, 13), match='friendshipday'>\n"
     ]
    }
   ],
   "source": [
    "import re\n",
    "data = 'friendshipday 28-08-2023 c echgey 25-12-2020 dcuh yugg 12/01/2012 hfd'\n",
    "res = re.match('\\w+',data) #considers alphanumeric at start\n",
    "print(res)"
   ]
  },
  {
   "cell_type": "code",
   "execution_count": 14,
   "metadata": {},
   "outputs": [
    {
     "name": "stdout",
     "output_type": "stream",
     "text": [
      "None\n"
     ]
    }
   ],
   "source": [
    "import re   \n",
    "data = 'friendshipday 28-08-2023 c echgey 25-12-2020 dcuh yugg 12/01/2012 hfd'\n",
    "res = re.fullmatch('friendship',data)  #given string has to match with the total string same as ==\n",
    "print(res)"
   ]
  },
  {
   "cell_type": "code",
   "execution_count": 16,
   "metadata": {},
   "outputs": [
    {
     "name": "stdout",
     "output_type": "stream",
     "text": [
      "<re.Match object; span=(0, 10), match='friendship'>\n",
      "(0, 10)\n",
      "0\n",
      "10\n",
      "friendship\n"
     ]
    }
   ],
   "source": [
    "import re   \n",
    "data = 'friendship'\n",
    "res = re.fullmatch('friendship',data)  #given string has to match with the total string same as ==\n",
    "print(res)\n",
    "print(res.span())\n",
    "print(res.start())\n",
    "print(res.end())\n",
    "print(res.group())"
   ]
  },
  {
   "cell_type": "code",
   "execution_count": 10,
   "metadata": {},
   "outputs": [
    {
     "name": "stdout",
     "output_type": "stream",
     "text": [
      "None\n"
     ]
    }
   ],
   "source": [
    "import re\n",
    "data = 'friendship 123 day'\n",
    "res = re.fullmatch('friendship',data)   #not matched with full string\n",
    "print(res)"
   ]
  },
  {
   "cell_type": "code",
   "execution_count": 20,
   "metadata": {},
   "outputs": [
    {
     "name": "stdout",
     "output_type": "stream",
     "text": [
      "<re.Match object; span=(0, 14), match='friendship 123'>\n"
     ]
    }
   ],
   "source": [
    "import re\n",
    "data = 'friendship 123'\n",
    "res = re.fullmatch('.*',data) #extracts everything (alphanumeric, special, spaces)\n",
    "print(res)"
   ]
  },
  {
   "cell_type": "code",
   "execution_count": 25,
   "metadata": {},
   "outputs": [
    {
     "name": "stdout",
     "output_type": "stream",
     "text": [
      "<re.Match object; span=(34, 44), match='25-12-2020'>\n"
     ]
    }
   ],
   "source": [
    "import re\n",
    "data = 'friendshipday 28-08-2023 c echgey 25-12-2020 dcuh yugg 12/01/2012 hfd'\n",
    "res = re.search('25-12-2020',data)\n",
    "print(res)"
   ]
  },
  {
   "cell_type": "code",
   "execution_count": 28,
   "metadata": {},
   "outputs": [
    {
     "name": "stdout",
     "output_type": "stream",
     "text": [
      "<re.Match object; span=(34, 44), match='25-12-2020'>\n"
     ]
    }
   ],
   "source": [
    "import re\n",
    "data = 'friendshipday 28-08-2023 c echgey 25-12-2020 dcuh yugg 12/01/2012 hfd'\n",
    "res = re.search('25-12-2020|hfd',data) #25-12-2020 or hfd and first occurence is 25-12-2020\n",
    "print(res)"
   ]
  },
  {
   "cell_type": "code",
   "execution_count": 29,
   "metadata": {},
   "outputs": [
    {
     "name": "stdout",
     "output_type": "stream",
     "text": [
      "<re.Match object; span=(14, 24), match='28-08-2023'>\n"
     ]
    }
   ],
   "source": [
    "import re\n",
    "data = 'friendshipday 28-08-2023 c echgey 25-12-2020 dcuh yugg 12/01/2012 hfd'\n",
    "res=re.search('[0-9]{2}[/-][0-9]{2}[/-][0-9]{4}',data)\n",
    "print(res)"
   ]
  },
  {
   "cell_type": "code",
   "execution_count": 32,
   "metadata": {},
   "outputs": [
    {
     "name": "stdout",
     "output_type": "stream",
     "text": [
      "good good morning good\n"
     ]
    }
   ],
   "source": [
    "import re\n",
    "data = \"haii good morning haii\"\n",
    "res = re.sub('haii','good',data)        #replaces everything\n",
    "print(res)"
   ]
  },
  {
   "cell_type": "code",
   "execution_count": 33,
   "metadata": {},
   "outputs": [
    {
     "name": "stdout",
     "output_type": "stream",
     "text": [
      "good good morning haii\n"
     ]
    }
   ],
   "source": [
    "import re\n",
    "data = \"haii good morning haii\"\n",
    "res = re.sub('haii','good',data,count=1) #replaced only once\n",
    "print(res)"
   ]
  },
  {
   "cell_type": "code",
   "execution_count": 34,
   "metadata": {},
   "outputs": [
    {
     "name": "stdout",
     "output_type": "stream",
     "text": [
      "friendshipday xx-xx-xxxx c echgey xx-xx-xxxx dcuh yugg xx-xx-xxxx hfd\n"
     ]
    }
   ],
   "source": [
    "import re\n",
    "data = 'friendshipday 28-08-2023 c echgey 25-12-2020 dcuh yugg 12/01/2012 hfd'\n",
    "res =re.sub('[0-9]{2}[/-][0-9]{2}[/-][0-9]{4}','xx-xx-xxxx',data)\n",
    "print(res)"
   ]
  }
 ],
 "metadata": {
  "kernelspec": {
   "display_name": "Python 3",
   "language": "python",
   "name": "python3"
  },
  "language_info": {
   "codemirror_mode": {
    "name": "ipython",
    "version": 3
   },
   "file_extension": ".py",
   "mimetype": "text/x-python",
   "name": "python",
   "nbconvert_exporter": "python",
   "pygments_lexer": "ipython3",
   "version": "3.11.4"
  },
  "orig_nbformat": 4
 },
 "nbformat": 4,
 "nbformat_minor": 2
}
